{
 "cells": [
  {
   "cell_type": "markdown",
   "metadata": {},
   "source": [
    "# Web Mining and Applied NLP (44-620)\n",
    "\n",
    "## Requests, JSON, and NLP\n",
    "\n",
    "### Student Name: Joshua Parton\n",
    "\n",
    "### https://github.com/Jparton0403/week4\n",
    "\n",
    "Perform the tasks described in the Markdown cells below.  When you have completed the assignment make sure your code cells have all been run (and have output beneath them) and ensure you have committed and pushed ALL of your changes to your assignment repository.\n",
    "\n",
    "Make sure you have [installed spaCy and its pipeline](https://spacy.io/usage#quickstart) and [spaCyTextBlob](https://spacy.io/universe/project/spacy-textblob)\n",
    "\n",
    "Every question that requires you to write code will have a code cell underneath it; you may either write your entire solution in that cell or write it in a python file (`.py`), then import and run the appropriate code to answer the question.\n",
    "\n",
    "This assignment requires that you write additional files (either JSON or pickle files); make sure to submit those files in your repository as well."
   ]
  },
  {
   "cell_type": "markdown",
   "metadata": {},
   "source": [
    "1. The following code accesses the [lyrics.ovh](https://lyricsovh.docs.apiary.io/#reference/0/lyrics-of-a-song/search) public api, searches for the lyrics of a song, and stores it in a dictionary object.  Write the resulting json to a file (either a JSON file or a pickle file; you choose). You will read in the contents of this file for future questions so we do not need to frequently access the API."
   ]
  },
  {
   "cell_type": "code",
   "execution_count": 44,
   "metadata": {},
   "outputs": [],
   "source": [
    "import requests\n",
    "import json\n",
    "\n",
    "AUTHOR='Edgar Allan Poe'\n",
    "POEM = 'Annabel Lee'\n",
    "URL = f'https://poetrydb.org/author,title/{AUTHOR};{POEM}'\n",
    "result = json.loads(requests.get(URL).text)\n",
    "poem = '\\n'.join(result[0]['lines']) \n"
   ]
  },
  {
   "cell_type": "markdown",
   "metadata": {},
   "source": [
    "2. Read in the contents of your file.  Print the lyrics of the song (not the entire dictionary!) and use spaCyTextBlob to perform sentiment analysis on the lyrics.  Print the polarity score of the sentiment analysis.  Given that the range of the polarity score is `[-1.0,1.0]` which corresponds to how positive or negative the text in question is, do you think the lyrics have a more positive or negative connotaion?  Answer this question in a comment in your code cell."
   ]
  },
  {
   "cell_type": "code",
   "execution_count": 60,
   "metadata": {},
   "outputs": [
    {
     "name": "stdout",
     "output_type": "stream",
     "text": [
      "It was many and many a year ago,\n",
      "  In a kingdom by the sea,\n",
      "That a maiden there lived whom you may know\n",
      "  By the name of ANNABEL LEE;\n",
      "And this maiden she lived with no other thought\n",
      "  Than to love and be loved by me.\n",
      "\n",
      "_I_ was a child and _she_ was a child,\n",
      "  In this kingdom by the sea:\n",
      "But we loved with a love that was more than love--\n",
      "  I and my ANNABEL LEE;\n",
      "With a love that the winged seraphs of heaven\n",
      "  Coveted her and me.\n",
      "\n",
      "And this was the reason that, long ago,\n",
      "  In this kingdom by the sea,\n",
      "A wind blew out of a cloud, chilling\n",
      "  My beautiful ANNABEL LEE;\n",
      "So that her highborn kinsmen came\n",
      "  And bore her away from me,\n",
      "To shut her up in a sepulchre\n",
      "  In this kingdom by the sea.\n",
      "\n",
      "The angels, not half so happy in heaven,\n",
      "  Went envying her and me--\n",
      "Yes!--that was the reason (as all men know,\n",
      "  In this kingdom by the sea)\n",
      "That the wind came out of the cloud by night,\n",
      "  Chilling and killing my ANNABEL LEE.\n",
      "\n",
      "But our love it was stronger by far than the love\n",
      "  Of those who were older than we--\n",
      "  Of many far wiser than we--\n",
      "And neither the angels in heaven above,\n",
      "  Nor the demons down under the sea,\n",
      "Can ever dissever my soul from the soul\n",
      "  Of the beautiful ANNABEL LEE.\n",
      "\n",
      "For the moon never beams without bringing me dreams\n",
      "  Of the beautiful ANNABEL LEE;\n",
      "And the stars never rise but I see the bright eyes\n",
      "  Of the beautiful ANNABEL LEE;\n",
      "And so, all the night-tide, I lie down by the side\n",
      "Of my darling, my darling, my life and my bride,\n",
      "  In her sepulchre there by the sea--\n",
      "  In her tomb by the side of the sea.\n",
      "\n",
      "0.36039272030651337\n",
      "0.6466475095785441\n",
      "[(['many'], 0.5, 0.5, None), (['many'], 0.5, 0.5, None), (['no', 'other'], 0.0625, 0.375, None), (['love'], 0.5, 0.6, None), (['loved'], 0.7, 0.8, None), (['loved'], 0.7, 0.8, None), (['love'], 0.5, 0.6, None), (['more'], 0.5, 0.5, None), (['love'], 0.5, 0.6, None), (['love'], 0.5, 0.6, None), (['long'], -0.05, 0.4, None), (['chilling'], -0.5, 0.9, None), (['beautiful'], 0.85, 1.0, None), (['not', 'half'], 0.08333333333333333, 0.16666666666666666, None), (['happy'], 0.8, 1.0, None), (['chilling'], -0.5, 0.9, None), (['love'], 0.5, 0.6, None), (['far'], 0.1, 1.0, None), (['love'], 0.5, 0.6, None), (['older'], 0.16666666666666666, 0.3333333333333333, None), (['many'], 0.5, 0.5, None), (['far'], 0.1, 1.0, None), (['above'], 0.0, 0.1, None), (['down'], -0.15555555555555559, 0.2888888888888889, None), (['beautiful'], 0.85, 1.0, None), (['beautiful'], 0.85, 1.0, None), (['bright'], 0.7000000000000001, 0.7999999999999999, None), (['beautiful'], 0.85, 1.0, None), (['down'], -0.15555555555555559, 0.2888888888888889, None)]\n",
      "\n",
      "Since there are a few words such as 'loved/love', and 'beautiful/happy' I think that the poem appears to have positive connitaions based on those phrases even though that the end of the poem is most grim.\n"
     ]
    }
   ],
   "source": [
    "import spacy\n",
    "from spacytextblob.spacytextblob import SpacyTextBlob\n",
    "\n",
    "print(poem)\n",
    "print()\n",
    "\n",
    "nlp = spacy.load('en_core_web_sm')\n",
    "text = poem\n",
    "nlp.add_pipe(\"spacytextblob\")\n",
    "doc = nlp(text)\n",
    "\n",
    "print(doc._.blob.polarity)\n",
    "# -0.125\n",
    "\n",
    "print(doc._.blob.subjectivity)\n",
    "# 0.9\n",
    "\n",
    "print(doc._.blob.sentiment_assessments.assessments)\n",
    "print()\n",
    "\n",
    "print(\"Since there are a few words such as 'loved/love', and 'beautiful/happy' I think that the poem appears to have positive connitaions based on those phrases even though that the end of the poem is most grim.\") "
   ]
  },
  {
   "cell_type": "markdown",
   "metadata": {},
   "source": [
    "3. Write a function that takes an artist, song, and filename, accesses the lyrics.ovh api to get the song lyrics, and writes the results to the specified filename.  Test this function by getting the lyrics to any four songs of your choice and storing them in different files."
   ]
  },
  {
   "cell_type": "code",
   "execution_count": 116,
   "metadata": {},
   "outputs": [],
   "source": [
    "import requests\n",
    "import json\n",
    "\n",
    "AUTHOR='Edgar Allan Poe'\n",
    "POEM_1 = 'Raven'\n",
    "URL = f'https://poetrydb.org/author,title/{AUTHOR};{POEM_1}'\n",
    "result = json.loads(requests.get(URL).text)\n",
    "poem_1 = '\\n'.join(result[0]['lines']) \n",
    "with open('Raven.txt', 'w') as json_file:\n",
    "  json.dump(poem_1, json_file)\n",
    "\n",
    "AUTHOR='Edgar Allan Poe'\n",
    "POEM2 = 'Annabel Lee'\n",
    "URL = f'https://poetrydb.org/author,title/{AUTHOR};{POEM2}'\n",
    "result = json.loads(requests.get(URL).text)\n",
    "poem2 = '\\n'.join(result[0]['lines']) \n",
    "with open('Annabel Lee.txt', 'w') as json_file:\n",
    "  json.dump(poem2, json_file)\n",
    "\n",
    "AUTHOR='Edgar Allan Poe'\n",
    "POEM0 = 'A Dream Within A Dream'\n",
    "URL = f'https://poetrydb.org/author,title/{AUTHOR};{POEM0}'\n",
    "result = json.loads(requests.get(URL).text)\n",
    "poem0 = '\\n'.join(result[0]['lines'])  \n",
    "with open('A Dream Within A Dream', 'w') as json_file:\n",
    "  json.dump(poem0, json_file)\n",
    "\n",
    "AUTHOR='Edgar Allan Poe'\n",
    "POEM4 = 'Eldorado'\n",
    "URL = f'https://poetrydb.org/author,title/{AUTHOR};{POEM4}'\n",
    "result = json.loads(requests.get(URL).text)\n",
    "poem4 = '\\n'.join(result[0]['lines']) \n",
    "with open('Eldorado', 'w') as json_file:\n",
    "  json.dump(poem4, json_file)"
   ]
  },
  {
   "cell_type": "markdown",
   "metadata": {},
   "source": [
    "4. Write a function that takes the name of a file that contains song lyrics, loads the file, performs sentiment analysis, and returns the polarity score.  Use this function to print the polarity scores (with the name of the song) of the three files you created in question 3.  Does the reported polarity match your understanding of the song's lyrics? Why or why not do you think that might be?  Answer the questions in either a comment in the code cell or a markdown cell under the code cell."
   ]
  },
  {
   "cell_type": "code",
   "execution_count": 122,
   "metadata": {},
   "outputs": [
    {
     "name": "stdout",
     "output_type": "stream",
     "text": [
      "Take this kiss upon the brow!\n",
      "And, in parting from you now,\n",
      "Thus much let me avow--\n",
      "You are not wrong, who deem\n",
      "That my days have been a dream:\n",
      "Yet if hope has flown away\n",
      "In a night, or in a day,\n",
      "In a vision or in none,\n",
      "Is it therefore the less _gone_?\n",
      "_All_ that we see or seem\n",
      "Is but a dream within a dream.\n",
      "\n",
      "I stand amid the roar\n",
      "Of a surf-tormented shore,\n",
      "And I hold within my hand\n",
      "Grains of the golden sand--\n",
      "How few! yet how they creep\n",
      "Through my fingers to the deep\n",
      "While I weep--while I weep!\n",
      "O God! can I not grasp\n",
      "Them with a tighter clasp?\n",
      "O God! can I not save\n",
      "_One_ from the pitiless wave?\n",
      "Is _all_ that we see or seem\n",
      "But a dream within a dream?\n",
      "\n",
      "polarity 0.055555555555555546\n",
      "subjectivity 0.36111111111111116\n",
      "sentiment assesment [(['much'], 0.2, 0.2, None), (['not', 'wrong'], 0.25, 0.9, None), (['less'], -0.16666666666666666, 0.06666666666666667, None), (['golden'], 0.3, 0.5, None), (['few', '!'], -0.25, 0.1, None), (['deep', '!', '!', '!'], 0.0, 0.4, None)]\n",
      "\n",
      "Yes the sentiment analysis matches what I thought of the poem and that it is going to be precived as much more of a lower number in the polarity as the verbage is more prone to dreary moments of the situation.\n"
     ]
    }
   ],
   "source": [
    "import spacy\n",
    "import json\n",
    "from spacytextblob.spacytextblob import SpacyTextBlob\n",
    "\n",
    "with open('A Dream Within A Dream', 'r') as f:\n",
    "  data = json.load(f)\n",
    "\n",
    "print(data)\n",
    "print()\n",
    "nlp = spacy.load('en_core_web_sm')\n",
    "text = data\n",
    "nlp.add_pipe(\"spacytextblob\")\n",
    "doc = nlp(text)\n",
    "\n",
    "print('polarity',doc._.blob.polarity)\n",
    "# -0.125\n",
    "\n",
    "print('subjectivity',doc._.blob.subjectivity)\n",
    "# 0.9\n",
    "\n",
    "print('sentiment assesment',doc._.blob.sentiment_assessments.assessments)\n",
    "print()\n",
    "print('Yes the sentiment analysis matches what I thought of the poem and that it is going to be precived as much more of a lower number in the polarity as the verbage is more prone to dreary moments of the situation.')"
   ]
  }
 ],
 "metadata": {
  "kernelspec": {
   "display_name": "Python 3 (ipykernel)",
   "language": "python",
   "name": "python3"
  },
  "language_info": {
   "codemirror_mode": {
    "name": "ipython",
    "version": 3
   },
   "file_extension": ".py",
   "mimetype": "text/x-python",
   "name": "python",
   "nbconvert_exporter": "python",
   "pygments_lexer": "ipython3",
   "version": "3.9.12"
  }
 },
 "nbformat": 4,
 "nbformat_minor": 4
}
